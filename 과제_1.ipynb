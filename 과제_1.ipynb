{
  "nbformat": 4,
  "nbformat_minor": 0,
  "metadata": {
    "colab": {
      "provenance": [],
      "collapsed_sections": [],
      "authorship_tag": "ABX9TyNQwDnW90Zdz9NnhIQkVzlr",
      "include_colab_link": true
    },
    "kernelspec": {
      "name": "python3",
      "display_name": "Python 3"
    },
    "language_info": {
      "name": "python"
    }
  },
  "cells": [
    {
      "cell_type": "markdown",
      "metadata": {
        "id": "view-in-github",
        "colab_type": "text"
      },
      "source": [
        "<a href=\"https://colab.research.google.com/github/202201038/kim-choi-june-sik/blob/main/%EA%B3%BC%EC%A0%9C_1.ipynb\" target=\"_parent\"><img src=\"https://colab.research.google.com/assets/colab-badge.svg\" alt=\"Open In Colab\"/></a>"
      ]
    },
    {
      "cell_type": "code",
      "execution_count": null,
      "metadata": {
        "colab": {
          "base_uri": "https://localhost:8080/"
        },
        "id": "zVZGyfsx00FW",
        "outputId": "17e0929a-a2eb-4821-9eaa-68af1e94ada4"
      },
      "outputs": [
        {
          "output_type": "stream",
          "name": "stdout",
          "text": [
            "3\n"
          ]
        }
      ],
      "source": [
        "#202201038 김최준식\n",
        "a=1\n",
        "b=2\n",
        "print(a+b)"
      ]
    },
    {
      "cell_type": "markdown",
      "source": [],
      "metadata": {
        "id": "LZs-e4vj1JwL"
      }
    },
    {
      "cell_type": "code",
      "source": [
        "x = int(input())\n",
        "\n",
        "y = ''\n",
        "\n",
        "if x >= 30: \n",
        "    print('너무 많다')\n",
        "  \n",
        "else :\n",
        "    for i in range (1, x+1, 1):\n",
        "        y += str(i)\n",
        "        print(y)\n",
        "    "
      ],
      "metadata": {
        "id": "RVZm0iB51-SJ",
        "colab": {
          "base_uri": "https://localhost:8080/"
        },
        "outputId": "59592265-e0bb-4bc1-867f-1702b2655a9d"
      },
      "execution_count": null,
      "outputs": [
        {
          "output_type": "stream",
          "name": "stdout",
          "text": [
            "34\n",
            "너무 많다\n"
          ]
        }
      ]
    },
    {
      "cell_type": "code",
      "source": [
        "x = int(input())\n",
        "\n",
        "y= ''  \n",
        "\n",
        "if x >= 30: \n",
        "    print('너무 많다')\n",
        "  \n",
        "else :\n",
        "    for i in range (1, x+1, 1):\n",
        "        y += str(i)\n",
        "        print(y)\n",
        "      "
      ],
      "metadata": {
        "colab": {
          "base_uri": "https://localhost:8080/"
        },
        "id": "rs6fwJX6EsPN",
        "outputId": "602c3663-0473-4256-cc5a-5d1ed8237ada"
      },
      "execution_count": null,
      "outputs": [
        {
          "output_type": "stream",
          "name": "stdout",
          "text": [
            "6\n",
            "1\n",
            "12\n",
            "123\n",
            "1234\n",
            "12345\n",
            "123456\n"
          ]
        }
      ]
    },
    {
      "cell_type": "code",
      "source": [
        "x = input()\n",
        "\n",
        "y = ''\n",
        "\n",
        "if not x.isdecimal(): \n",
        "    print ('정수를 입력하시요')\n",
        "\n",
        "else:\n",
        "    x = int(x)\n",
        "    if x >= 30 : \n",
        "        print('너무 많다')\n",
        "    else: \n",
        "        for i in range(1, x+1, 1):\n",
        "            y += str(i)\n",
        "            print(y)"
      ],
      "metadata": {
        "colab": {
          "base_uri": "https://localhost:8080/"
        },
        "id": "zlnhqD8pHxK2",
        "outputId": "ff129c9e-0efc-402c-f50a-06097a90437c"
      },
      "execution_count": null,
      "outputs": [
        {
          "output_type": "stream",
          "name": "stdout",
          "text": [
            "abcd\n",
            "정수를 입력하시요\n"
          ]
        }
      ]
    },
    {
      "cell_type": "code",
      "source": [
        "x = input()\n",
        "\n",
        "y = ''\n",
        "\n",
        "if not x.isdecimal(): \n",
        "    print ('정수를 입력하시요')\n",
        "\n",
        "else:\n",
        "    x = int(x)\n",
        "    if x >= 30 : \n",
        "        print('너무 많다')\n",
        "    else: \n",
        "        for i in range(1, x+1, 1):\n",
        "            y += str(i)\n",
        "            print(y)"
      ],
      "metadata": {
        "colab": {
          "base_uri": "https://localhost:8080/"
        },
        "id": "RAcaw_AKTmG2",
        "outputId": "f7d15fcb-bb2c-4707-f768-f56a8af96232"
      },
      "execution_count": null,
      "outputs": [
        {
          "output_type": "stream",
          "name": "stdout",
          "text": [
            "4.5\n",
            "정수를 입력하시요\n"
          ]
        }
      ]
    }
  ]
}